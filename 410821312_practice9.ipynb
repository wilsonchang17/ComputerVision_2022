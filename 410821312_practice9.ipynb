{
 "cells": [
  {
   "cell_type": "markdown",
   "metadata": {},
   "source": [
    "## Practice\n",
    "1. Input images from webcam.\n",
    "2. Use <b>MediaPipe()</b> to peform face detection.\n",
    "3. Find the coordinates of 6 FaceKeyPoint: (RIGHT_EYE,LEFT_EYE,NOSE_TIP,MOUTH_CENTER,RIGHT_EAR_TRAGION,LEFT_EAR_TRAGION)\n",
    "4. Draw a triangle using three points: RIGHT_EYE, LEFT_EYE, MOUTH_CENTER\n",
    "5. Optional: Use <i>cv2.arrowedLine()</i> to indicate the normal direction of the face. (hint: a vector from the center of the triangle to the NOSE_TIP)\n",
    "6. Show the output image.\n",
    "7. Upload your Jupyter code file (*.ipynb)"
   ]
  },
  {
   "cell_type": "code",
   "execution_count": 6,
   "metadata": {},
   "outputs": [],
   "source": [
    "import cv2\n",
    "import mediapipe as mp\n",
    "\n",
    "mp_drawing = mp.solutions.drawing_utils\n",
    "\n",
    "\n",
    "mp_face = mp.solutions.face_detection.FaceDetection(\n",
    "    model_selection=1,\n",
    "    min_detection_confidence=0.5 \n",
    ")\n",
    "cap = cv2.VideoCapture(0, cv2.CAP_DSHOW)\n",
    "while True:\n",
    "    ret, frame = cap.read()\n",
    "    \n",
    "    results = mp_face.process(frame)\n",
    "    height = frame.shape[0]\n",
    "    weight = frame.shape[1]\n",
    "    if not results.detections:\n",
    "        print('No faces detected.')\n",
    "    else:\n",
    "        for detection in results.detections: # iterate over each detection and draw on image\n",
    "            mp_drawing.draw_detection(frame, detection)\n",
    "            points = detection.location_data.relative_keypoints\n",
    "            re1 = points[1].x*weight\n",
    "            re2 = points[1].y*height\n",
    "            le1 = points[0].x*weight\n",
    "            le2 = points[0].y*height\n",
    "            m1 = points[3].x*weight\n",
    "            m2 = points[3].y*height\n",
    "            frame = cv2.line(frame, (int(re1),int(re2)), (int(le1),int(le2)), (0,255,0), 1)\n",
    "            frame = cv2.line(frame, (int(re1),int(re2)), (int(m1),int(m2)), (0,255,0), 1)\n",
    "            frame = cv2.line(frame, (int(le1),int(le2)), (int(m1),int(m2)), (0,255,0), 1)\n",
    "    \n",
    "    cv2.imshow('output', frame)\n",
    "    c = cv2.waitKey(1)\n",
    "    #press esc to quit \n",
    "    if c == 27:\n",
    "        break\n",
    "cap.release()\n",
    "cv2.destroyAllWindows()\n",
    "    "
   ]
  },
  {
   "cell_type": "code",
   "execution_count": null,
   "metadata": {},
   "outputs": [],
   "source": []
  }
 ],
 "metadata": {
  "kernelspec": {
   "display_name": "Python 3",
   "language": "python",
   "name": "python3"
  },
  "language_info": {
   "codemirror_mode": {
    "name": "ipython",
    "version": 3
   },
   "file_extension": ".py",
   "mimetype": "text/x-python",
   "name": "python",
   "nbconvert_exporter": "python",
   "pygments_lexer": "ipython3",
   "version": "3.8.3"
  }
 },
 "nbformat": 4,
 "nbformat_minor": 4
}
