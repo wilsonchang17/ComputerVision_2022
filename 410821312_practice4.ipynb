{
 "cells": [
  {
   "cell_type": "markdown",
   "metadata": {},
   "source": [
    "## %%writefile test\n",
    "## Practice\n",
    "1. Read images from <i>WiiPlay.mp4</i> video file. (with level number the same as the last two digits of your student id)\n",
    "2. Optional: Detect the blue cursor and mark its location using a rectangle.\n",
    "3. Show the images.\n",
    "4. Write the images to <i>Output.mp4</i> video file.\n",
    "5. Upload your Jupyter code file (*.ipynb)"
   ]
  },
  {
   "cell_type": "code",
   "execution_count": 2,
   "metadata": {},
   "outputs": [],
   "source": [
    "import cv2\n",
    "import numpy as np\n",
    "\n",
    "cap = cv2.VideoCapture('WiiPlay.mp4')\n",
    "# Check if the video file is opened correctly\n",
    "if not cap.isOpened():\n",
    "    raise IOError(\"Cannot open the video file\")\n",
    "\n",
    "fourcc = cv2.VideoWriter_fourcc(*'mp4v')\n",
    "#So make sure that you have the right parameters for the right video!\n",
    "time_length = 210\n",
    "fps=30\n",
    "frame_seq = 3840\n",
    "out_size = (640, 360)\n",
    "out = cv2.VideoWriter('output.mp4', fourcc, 30.0, out_size)\n",
    "\n",
    "lower_blue = np.array([101,50,38])\n",
    "upper_blue = np.array([110,255,255])\n",
    "\n",
    "#The first argument flag CAP_PROP_POS_FRAMES is a 0-based index of the frame to be decoded/captured next.\n",
    "#The second argument defines the frame number in range from 0 to (time_length*fps - 1).\n",
    "cap.set(cv2.CAP_PROP_POS_FRAMES , frame_seq);\n",
    "\n",
    "ret, frame = cap.read()\n",
    "cur_frame = cv2.resize(frame, out_size, 0, 0, interpolation=cv2.INTER_AREA)\n",
    "i = 0\n",
    "while True:\n",
    "    ret, frame = cap.read()\n",
    "    if ret == False:\n",
    "        break\n",
    "    if i == 250:\n",
    "        break\n",
    "    cur_frame = cv2.resize(frame, out_size, 0, 0, interpolation=cv2.INTER_AREA)   \n",
    "    \n",
    "    c = cv2.waitKey(1)\n",
    "    cv2.imshow('downsampling', cur_frame)\n",
    "    out.write(cur_frame)    \n",
    "    i = i+1\n",
    "    if c == 27:\n",
    "        break\n",
    "cap.release()\n",
    "out.release()\n",
    "cv2.destroyAllWindows()"
   ]
  },
  {
   "cell_type": "markdown",
   "metadata": {},
   "source": []
  }
 ],
 "metadata": {
  "kernelspec": {
   "display_name": "Python 3",
   "language": "python",
   "name": "python3"
  },
  "language_info": {
   "codemirror_mode": {
    "name": "ipython",
    "version": 3
   },
   "file_extension": ".py",
   "mimetype": "text/x-python",
   "name": "python",
   "nbconvert_exporter": "python",
   "pygments_lexer": "ipython3",
   "version": "3.8.3"
  }
 },
 "nbformat": 4,
 "nbformat_minor": 5
}
