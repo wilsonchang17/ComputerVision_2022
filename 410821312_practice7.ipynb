{
 "cells": [
  {
   "cell_type": "markdown",
   "metadata": {},
   "source": [
    "1. Input image from gear_tooth.png.\n",
    "2. The objective is to detect missing teeth using a sequence of morphological filters.\n",
    "3. Design a set of structure elements: <b>gear_body</b>, <b>sampling_ring_spacer</b>, <b>sampling_ring_width</b>, <b>tip_spacing</b>, <b>defect_cue</b>\n",
    "4. Apply morphological filters using the structure elements to generate the figures (e), (f), (g), (h)\n",
    "<br>&nbsp;(e) opening it with structure element <b>gear_body</b> to get rid of the teeth, dilating that with structure element <b>sampling_ring_spacer</b> to bring it out to the base of the teeth, dilating that with the structure element <b>sampling_ring_width</b> to bring the next image out to the tip of the teeth, and subtracting the last two results to get a ring that just fits over the teeth.\n",
    "<br>&nbsp;(f) AND it with the original image to produce an image of just the teeth."
   ]
  },
  {
   "cell_type": "code",
   "execution_count": 9,
   "metadata": {},
   "outputs": [],
   "source": [
    "#gear tooth inspection using morphological filter\n",
    "\n",
    "import cv2\n",
    "import numpy as np\n",
    "from matplotlib import pyplot as plt\n",
    "\n",
    "img = cv2.imread('gear_tooth.png', cv2.IMREAD_GRAYSCALE)\n",
    "retval, img_a = cv2.threshold(img, 225, 255, cv2.THRESH_BINARY)\n",
    "\n",
    "kernel_dot = cv2.getStructuringElement(cv2.MORPH_ELLIPSE,(3,3))\n",
    "kernel_hole = cv2.getStructuringElement(cv2.MORPH_ELLIPSE,(30,30))\n",
    "kernel_hole_e = cv2.erode(kernel_hole, kernel_dot, iterations=1)\n",
    "kernel_hole_ring = kernel_hole - kernel_hole_e\n",
    "\n",
    "\n",
    "\n",
    "img_b = cv2.erode(img_a, kernel_hole_ring, iterations=1)\n",
    "img_c = cv2.dilate(img_b, kernel_hole, iterations=1)\n",
    "img_d = cv2.bitwise_or(img, img_c)\n",
    "img_d = cv2.bitwise_or(img, img_d)\n",
    "\n",
    "kernel_hole2 = cv2.getStructuringElement(cv2.MORPH_ELLIPSE,(30,30))\n",
    "kernel_hole3 = cv2.getStructuringElement(cv2.MORPH_ELLIPSE,(2,2))\n",
    "kernel_hole_e2 = cv2.erode(kernel_hole, kernel_dot, iterations=1)\n",
    "kernel_hole_ring2 = kernel_hole - kernel_hole_e\n",
    "\n",
    "\n",
    "\n",
    "\n",
    "kernel_hole2 = cv2.getStructuringElement(cv2.MORPH_ELLIPSE,(5,5))\n",
    "kernel_hole4 = cv2.getStructuringElement(cv2.MORPH_ELLIPSE,(2,2))\n",
    "kernel_hole3 = cv2.getStructuringElement(cv2.MORPH_ELLIPSE,(1,1))\n",
    "kernel_hole5 = cv2.getStructuringElement(cv2.MORPH_ELLIPSE,(3,3))\n",
    "kernel_hole6 = cv2.getStructuringElement(cv2.MORPH_ELLIPSE,(8,8))\n",
    "\n",
    "\n",
    "\n",
    "\n",
    "cv2.imshow('(a)', img_a)\n",
    "cv2.imshow('(b)', img_b)\n",
    "cv2.imshow('(c)', img_c)\n",
    "cv2.imshow('(d)', img_d)\n",
    "\n",
    "imge = cv2.erode(img_d, kernel_hole4, iterations=1)\n",
    "\n",
    "\n",
    "imgf = cv2.erode(img_d, kernel_hole6, iterations=1)\n",
    "\n",
    "imgee = cv2.dilate(imge, kernel_hole2, iterations=2)\n",
    "imgee = imgee - imgf\n",
    "imgee = cv2.erode(imgee, kernel_hole2, iterations=1)\n",
    "cv2.imshow('(e)', imgee )\n",
    "imgnew = cv2.dilate(img_d, kernel_hole3, iterations=1)\n",
    "imgnew =  imgnew - imge \n",
    "cv2.imshow('(f)', imgnew)\n",
    "\n",
    "\n",
    "\n",
    "cv2.waitKey()\n",
    "cv2.destroyAllWindows()"
   ]
  },
  {
   "cell_type": "code",
   "execution_count": null,
   "metadata": {},
   "outputs": [],
   "source": []
  }
 ],
 "metadata": {
  "kernelspec": {
   "display_name": "Python 3",
   "language": "python",
   "name": "python3"
  },
  "language_info": {
   "codemirror_mode": {
    "name": "ipython",
    "version": 3
   },
   "file_extension": ".py",
   "mimetype": "text/x-python",
   "name": "python",
   "nbconvert_exporter": "python",
   "pygments_lexer": "ipython3",
   "version": "3.8.3"
  }
 },
 "nbformat": 4,
 "nbformat_minor": 4
}
