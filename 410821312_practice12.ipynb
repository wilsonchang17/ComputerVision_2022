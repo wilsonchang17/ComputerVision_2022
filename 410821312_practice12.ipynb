{
 "cells": [
  {
   "cell_type": "markdown",
   "metadata": {},
   "source": [
    "## Practice\n",
    "1. Input images from webcam.\n",
    "2. Use cv2.CascadeClassifier() to detect your face.\n",
    "3. Perform <b> image vignetting </b> centered on detected face.\n",
    "4. Show your output images.\n",
    "5. Upload your Jupyter code file (*.ipynb)"
   ]
  },
  {
   "cell_type": "code",
   "execution_count": 2,
   "metadata": {},
   "outputs": [],
   "source": [
    "#face detector\n",
    " \n",
    "import cv2\n",
    "import numpy as np\n",
    "face_cascade = cv2.CascadeClassifier('haarcascade_frontalface_default.xml')\n",
    "cap = cv2.VideoCapture(0, cv2.CAP_DSHOW) \n",
    "scaling_factor = 0.5\n",
    "while True:\n",
    "    ret, frame = cap.read()\n",
    "    ro, co = frame.shape[:2]\n",
    "    frame = cv2.resize(frame, None, fx=scaling_factor, fy=scaling_factor, interpolation=cv2.INTER_AREA)\n",
    "    face_rects = face_cascade.detectMultiScale(frame, scaleFactor=1.3, minNeighbors=3)\n",
    "    \n",
    "    rows, cols = frame.shape[:2]\n",
    "    kernel_x = cv2.getGaussianKernel(cols,50)\n",
    "    kernel_y = cv2.getGaussianKernel(rows,50)\n",
    "    kernel = kernel_y * kernel_x.T\n",
    "    mask = cv2.normalize(kernel, None, 0, 1, cv2.NORM_MINMAX)\n",
    "    mask2 = cv2.normalize(kernel, None, 1, 1, cv2.NORM_MINMAX)\n",
    "    output = np.copy(frame)\n",
    "    #for i in range(3):\n",
    "        #output[:,:,i] = output[:,:,i] * mask\n",
    "    for (x,y,w,h) in face_rects:\n",
    "        x = int(x*0.8)\n",
    "        y = int(y*0.8)\n",
    "        w = int(w*1.2)\n",
    "        h = int(h*1.2)\n",
    "        rows, cols = w,h\n",
    "        kernel_x = cv2.getGaussianKernel(cols,30)\n",
    "        kernel_y = cv2.getGaussianKernel(rows,30)\n",
    "        kernel = kernel_y * kernel_x.T\n",
    "        mask = cv2.normalize(kernel, None, 0, 1, cv2.NORM_MINMAX)\n",
    "        output = np.copy(frame)\n",
    "        for i in range(3):\n",
    "            output[y:y+h, x:x+w,i] = output[y:y+h, x:x+w,i] * mask\n",
    "            output[0:y, 0:co,i] = output[0:y, 0:co,i]*0\n",
    "            output[0:ro, 0:x,i] = output[0:ro, 0:x,i]*0\n",
    "            output[0:ro, x+w:co,i] = output[0:ro, x+w:co,i]*0\n",
    "            output[y+h:ro, x:co,i] = output[y+h:ro, x:co,i]*0\n",
    "          \n",
    "        #cv2.rectangle(output, (x,y), (x+w,y+h), (0,255,0), 3)\n",
    "    cv2.imshow('Face Detector', output)\n",
    "    c = cv2.waitKey(1)\n",
    "    if c == 27:\n",
    "        break\n",
    "cap.release()\n",
    "cv2.destroyAllWindows()"
   ]
  },
  {
   "cell_type": "code",
   "execution_count": null,
   "metadata": {},
   "outputs": [],
   "source": []
  }
 ],
 "metadata": {
  "kernelspec": {
   "display_name": "Python 3",
   "language": "python",
   "name": "python3"
  },
  "language_info": {
   "codemirror_mode": {
    "name": "ipython",
    "version": 3
   },
   "file_extension": ".py",
   "mimetype": "text/x-python",
   "name": "python",
   "nbconvert_exporter": "python",
   "pygments_lexer": "ipython3",
   "version": "3.8.3"
  }
 },
 "nbformat": 4,
 "nbformat_minor": 4
}
